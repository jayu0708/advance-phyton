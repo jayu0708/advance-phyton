{
 "cells": [
  {
   "cell_type": "markdown",
   "metadata": {},
   "source": [
    "# stock market api project\n",
    "Rapid API URL -https://rapidapi.com/alphavantage/api/alpha-vantage"
   ]
  },
  {
   "cell_type": "code",
   "execution_count": 3,
   "metadata": {},
   "outputs": [
    {
     "name": "stdout",
     "output_type": "stream",
     "text": [
      "Collecting python-dotenv\n",
      "  Downloading python_dotenv-1.0.1-py3-none-any.whl.metadata (23 kB)\n",
      "Downloading python_dotenv-1.0.1-py3-none-any.whl (19 kB)\n",
      "Installing collected packages: python-dotenv\n",
      "Successfully installed python-dotenv-1.0.1\n",
      "Note: you may need to restart the kernel to use updated packages.\n"
     ]
    }
   ],
   "source": [
    "%pip install python-dotenv"
   ]
  },
  {
   "cell_type": "code",
   "execution_count": 4,
   "metadata": {},
   "outputs": [
    {
     "data": {
      "text/plain": [
       "True"
      ]
     },
     "execution_count": 4,
     "metadata": {},
     "output_type": "execute_result"
    }
   ],
   "source": [
    "from dotenv import load_dotenv\n",
    "load_dotenv()"
   ]
  },
  {
   "cell_type": "code",
   "execution_count": 10,
   "metadata": {},
   "outputs": [],
   "source": [
    "import os \n",
    "api_key = os.getenv(\"API_KEY\")"
   ]
  },
  {
   "cell_type": "code",
   "execution_count": 18,
   "metadata": {},
   "outputs": [
    {
     "data": {
      "text/plain": [
       "[{'1. symbol': '532885.BSE',\n",
       "  '2. name': 'Central Bank of India',\n",
       "  '3. type': 'Equity',\n",
       "  '4. region': 'India/Bombay',\n",
       "  '5. marketOpen': '09:15',\n",
       "  '6. marketClose': '15:30',\n",
       "  '7. timezone': 'UTC+5.5',\n",
       "  '8. currency': 'INR',\n",
       "  '9. matchScore': '1.0000'},\n",
       " {'1. symbol': 'CENTRALBK.BSE',\n",
       "  '2. name': 'CENTRAL BANK OF INDIA',\n",
       "  '3. type': 'Equity',\n",
       "  '4. region': 'India/Bombay',\n",
       "  '5. marketOpen': '09:15',\n",
       "  '6. marketClose': '15:30',\n",
       "  '7. timezone': 'UTC+5.5',\n",
       "  '8. currency': 'INR',\n",
       "  '9. matchScore': '1.0000'}]"
      ]
     },
     "execution_count": 18,
     "metadata": {},
     "output_type": "execute_result"
    }
   ],
   "source": [
    "import requests\n",
    "\n",
    "url = \"https://alpha-vantage.p.rapidapi.com/query\"\n",
    "\n",
    "querystring = {\n",
    "    \"datatype\":\"json\",\n",
    "    \"keywords\":\"central bank of india\",\n",
    "    \"function\":\"SYMBOL_SEARCH\",\n",
    "    }\n",
    "\n",
    "headers = {\n",
    "\t\"x-rapidapi-key\": api_key,\n",
    "\t\"x-rapidapi-host\": \"alpha-vantage.p.rapidapi.com\"\n",
    "}\n",
    "\n",
    "response = requests.get(url, headers=headers, params=querystring)\n",
    "\n",
    "response.json()[\"bestMatches\"]"
   ]
  },
  {
   "cell_type": "markdown",
   "metadata": {},
   "source": [
    "# create a class stocks fetch"
   ]
  },
  {
   "cell_type": "code",
   "execution_count": 24,
   "metadata": {},
   "outputs": [],
   "source": [
    "import pandas as pd\n",
    "import plotly.graph_objects as go\n"
   ]
  },
  {
   "cell_type": "code",
   "execution_count": 20,
   "metadata": {},
   "outputs": [],
   "source": [
    "class StockFetch:\n",
    "\n",
    "    def __init__(self, api_key) -> None:\n",
    "        self.api_key = api_key\n",
    "        self.url = \"https://alpha-vantage.p.rapidapi.com/query\"\n",
    "        self.headers = {\n",
    "            \"x-rapidapi-key\": self.api_key, \n",
    "            \"x-rapidapi-host\": \"alpha-vantage.p.rapidapi.com\"\n",
    "        }\n",
    "\n",
    "    def symbol_search(self, company):\n",
    "        querystring = {\n",
    "            \"datatype\": \"json\",\n",
    "            \"keywords\": company,\n",
    "            \"function\": \"SYMBOL_SEARCH\",\n",
    "        }\n",
    "        response = requests.get(self.url, headers=self.headers, params=querystring)\n",
    "        data = response.json()[\"bestMatches\"]\n",
    "        df = pd.DataFrame(data)\n",
    "        return df\n",
    "    \n",
    "    def daily_data(self, symbol):\n",
    "        querystring = {\n",
    "            \"function\":\"TIME_SERIES_DAILY\",\n",
    "            \"symbol\":symbol,\n",
    "            \"outputsize\":\"compact\",\n",
    "            \"datatype\":\"json\"\n",
    "        }\n",
    "        response = requests.get(self.url, headers=self.headers, params=querystring)\n",
    "        df = pd.DataFrame(response.json()[\"Time Series (Daily)\"]).T\n",
    "        df.index = pd.to_datetime(df.index)\n",
    "        for i in df.columns:\n",
    "            df[i] = df[i].astype(float)\n",
    "\n",
    "        return df \n",
    "    \n",
    "    def plot_chart(self, symbol):\n",
    "        df = self.daily_data(symbol)\n",
    "        fig = go.Figure(data=[\n",
    "            go.Candlestick(\n",
    "                x = df.index,\n",
    "                open = df[\"1. open\"],\n",
    "                high = df[\"2. high\"],\n",
    "                low = df[\"3. low\"],\n",
    "                close = df[\"4. close\"]\n",
    "            )\n",
    "        ])\n",
    "        fig.update_layout(width=1000, height=800)\n",
    "        fig.show()"
   ]
  },
  {
   "cell_type": "code",
   "execution_count": null,
   "metadata": {},
   "outputs": [],
   "source": []
  },
  {
   "cell_type": "code",
   "execution_count": 21,
   "metadata": {},
   "outputs": [],
   "source": [
    "client = StockFetch(api_key = os.getenv(\"API_KEY\"))"
   ]
  },
  {
   "cell_type": "code",
   "execution_count": 22,
   "metadata": {},
   "outputs": [
    {
     "data": {
      "text/html": [
       "<div>\n",
       "<style scoped>\n",
       "    .dataframe tbody tr th:only-of-type {\n",
       "        vertical-align: middle;\n",
       "    }\n",
       "\n",
       "    .dataframe tbody tr th {\n",
       "        vertical-align: top;\n",
       "    }\n",
       "\n",
       "    .dataframe thead th {\n",
       "        text-align: right;\n",
       "    }\n",
       "</style>\n",
       "<table border=\"1\" class=\"dataframe\">\n",
       "  <thead>\n",
       "    <tr style=\"text-align: right;\">\n",
       "      <th></th>\n",
       "      <th>1. symbol</th>\n",
       "      <th>2. name</th>\n",
       "      <th>3. type</th>\n",
       "      <th>4. region</th>\n",
       "      <th>5. marketOpen</th>\n",
       "      <th>6. marketClose</th>\n",
       "      <th>7. timezone</th>\n",
       "      <th>8. currency</th>\n",
       "      <th>9. matchScore</th>\n",
       "    </tr>\n",
       "  </thead>\n",
       "  <tbody>\n",
       "    <tr>\n",
       "      <th>0</th>\n",
       "      <td>HDB</td>\n",
       "      <td>HDFC Bank Ltd</td>\n",
       "      <td>Equity</td>\n",
       "      <td>United States</td>\n",
       "      <td>09:30</td>\n",
       "      <td>16:00</td>\n",
       "      <td>UTC-04</td>\n",
       "      <td>USD</td>\n",
       "      <td>0.8182</td>\n",
       "    </tr>\n",
       "    <tr>\n",
       "      <th>1</th>\n",
       "      <td>HDFCBANK.BSE</td>\n",
       "      <td>HDFC Bank Limited</td>\n",
       "      <td>Equity</td>\n",
       "      <td>India/Bombay</td>\n",
       "      <td>09:15</td>\n",
       "      <td>15:30</td>\n",
       "      <td>UTC+5.5</td>\n",
       "      <td>INR</td>\n",
       "      <td>0.8000</td>\n",
       "    </tr>\n",
       "    <tr>\n",
       "      <th>2</th>\n",
       "      <td>H1DB34.SAO</td>\n",
       "      <td>HDFC Bank Limited</td>\n",
       "      <td>Equity</td>\n",
       "      <td>Brazil/Sao Paolo</td>\n",
       "      <td>10:00</td>\n",
       "      <td>17:30</td>\n",
       "      <td>UTC-03</td>\n",
       "      <td>BRL</td>\n",
       "      <td>0.6923</td>\n",
       "    </tr>\n",
       "    <tr>\n",
       "      <th>3</th>\n",
       "      <td>HDFA.FRK</td>\n",
       "      <td>HDFC Bank Limited</td>\n",
       "      <td>Equity</td>\n",
       "      <td>Frankfurt</td>\n",
       "      <td>08:00</td>\n",
       "      <td>20:00</td>\n",
       "      <td>UTC+02</td>\n",
       "      <td>EUR</td>\n",
       "      <td>0.6923</td>\n",
       "    </tr>\n",
       "  </tbody>\n",
       "</table>\n",
       "</div>"
      ],
      "text/plain": [
       "      1. symbol            2. name 3. type         4. region 5. marketOpen  \\\n",
       "0           HDB      HDFC Bank Ltd  Equity     United States         09:30   \n",
       "1  HDFCBANK.BSE  HDFC Bank Limited  Equity      India/Bombay         09:15   \n",
       "2    H1DB34.SAO  HDFC Bank Limited  Equity  Brazil/Sao Paolo         10:00   \n",
       "3      HDFA.FRK  HDFC Bank Limited  Equity         Frankfurt         08:00   \n",
       "\n",
       "  6. marketClose 7. timezone 8. currency 9. matchScore  \n",
       "0          16:00      UTC-04         USD        0.8182  \n",
       "1          15:30     UTC+5.5         INR        0.8000  \n",
       "2          17:30      UTC-03         BRL        0.6923  \n",
       "3          20:00      UTC+02         EUR        0.6923  "
      ]
     },
     "execution_count": 22,
     "metadata": {},
     "output_type": "execute_result"
    }
   ],
   "source": [
    "df1 = client.symbol_search(company=\"HDFC Bank\")\n",
    "df1"
   ]
  },
  {
   "cell_type": "code",
   "execution_count": 23,
   "metadata": {},
   "outputs": [],
   "source": [
    "df1.to_csv(\"Symbol.csv\", index=False)"
   ]
  },
  {
   "cell_type": "code",
   "execution_count": 25,
   "metadata": {},
   "outputs": [
    {
     "data": {
      "text/html": [
       "<div>\n",
       "<style scoped>\n",
       "    .dataframe tbody tr th:only-of-type {\n",
       "        vertical-align: middle;\n",
       "    }\n",
       "\n",
       "    .dataframe tbody tr th {\n",
       "        vertical-align: top;\n",
       "    }\n",
       "\n",
       "    .dataframe thead th {\n",
       "        text-align: right;\n",
       "    }\n",
       "</style>\n",
       "<table border=\"1\" class=\"dataframe\">\n",
       "  <thead>\n",
       "    <tr style=\"text-align: right;\">\n",
       "      <th></th>\n",
       "      <th>1. open</th>\n",
       "      <th>2. high</th>\n",
       "      <th>3. low</th>\n",
       "      <th>4. close</th>\n",
       "      <th>5. volume</th>\n",
       "    </tr>\n",
       "  </thead>\n",
       "  <tbody>\n",
       "    <tr>\n",
       "      <th>2024-10-04</th>\n",
       "      <td>1668.95</td>\n",
       "      <td>1690.40</td>\n",
       "      <td>1652.40</td>\n",
       "      <td>1656.80</td>\n",
       "      <td>1035087.0</td>\n",
       "    </tr>\n",
       "    <tr>\n",
       "      <th>2024-10-03</th>\n",
       "      <td>1710.05</td>\n",
       "      <td>1725.90</td>\n",
       "      <td>1673.80</td>\n",
       "      <td>1682.15</td>\n",
       "      <td>4622696.0</td>\n",
       "    </tr>\n",
       "    <tr>\n",
       "      <th>2024-10-01</th>\n",
       "      <td>1724.10</td>\n",
       "      <td>1742.00</td>\n",
       "      <td>1720.05</td>\n",
       "      <td>1726.15</td>\n",
       "      <td>115295.0</td>\n",
       "    </tr>\n",
       "    <tr>\n",
       "      <th>2024-09-30</th>\n",
       "      <td>1751.00</td>\n",
       "      <td>1752.00</td>\n",
       "      <td>1724.00</td>\n",
       "      <td>1732.00</td>\n",
       "      <td>725769.0</td>\n",
       "    </tr>\n",
       "    <tr>\n",
       "      <th>2024-09-27</th>\n",
       "      <td>1778.10</td>\n",
       "      <td>1778.10</td>\n",
       "      <td>1750.00</td>\n",
       "      <td>1752.85</td>\n",
       "      <td>232369.0</td>\n",
       "    </tr>\n",
       "    <tr>\n",
       "      <th>...</th>\n",
       "      <td>...</td>\n",
       "      <td>...</td>\n",
       "      <td>...</td>\n",
       "      <td>...</td>\n",
       "      <td>...</td>\n",
       "    </tr>\n",
       "    <tr>\n",
       "      <th>2024-05-18</th>\n",
       "      <td>1464.25</td>\n",
       "      <td>1468.95</td>\n",
       "      <td>1463.40</td>\n",
       "      <td>1465.40</td>\n",
       "      <td>68410.0</td>\n",
       "    </tr>\n",
       "    <tr>\n",
       "      <th>2024-05-17</th>\n",
       "      <td>1455.00</td>\n",
       "      <td>1468.00</td>\n",
       "      <td>1449.00</td>\n",
       "      <td>1464.90</td>\n",
       "      <td>692540.0</td>\n",
       "    </tr>\n",
       "    <tr>\n",
       "      <th>2024-05-16</th>\n",
       "      <td>1442.55</td>\n",
       "      <td>1462.00</td>\n",
       "      <td>1436.00</td>\n",
       "      <td>1460.15</td>\n",
       "      <td>458835.0</td>\n",
       "    </tr>\n",
       "    <tr>\n",
       "      <th>2024-05-15</th>\n",
       "      <td>1459.60</td>\n",
       "      <td>1459.60</td>\n",
       "      <td>1436.00</td>\n",
       "      <td>1438.85</td>\n",
       "      <td>531031.0</td>\n",
       "    </tr>\n",
       "    <tr>\n",
       "      <th>2024-05-14</th>\n",
       "      <td>1450.65</td>\n",
       "      <td>1465.30</td>\n",
       "      <td>1450.15</td>\n",
       "      <td>1461.80</td>\n",
       "      <td>351466.0</td>\n",
       "    </tr>\n",
       "  </tbody>\n",
       "</table>\n",
       "<p>100 rows × 5 columns</p>\n",
       "</div>"
      ],
      "text/plain": [
       "            1. open  2. high   3. low  4. close  5. volume\n",
       "2024-10-04  1668.95  1690.40  1652.40   1656.80  1035087.0\n",
       "2024-10-03  1710.05  1725.90  1673.80   1682.15  4622696.0\n",
       "2024-10-01  1724.10  1742.00  1720.05   1726.15   115295.0\n",
       "2024-09-30  1751.00  1752.00  1724.00   1732.00   725769.0\n",
       "2024-09-27  1778.10  1778.10  1750.00   1752.85   232369.0\n",
       "...             ...      ...      ...       ...        ...\n",
       "2024-05-18  1464.25  1468.95  1463.40   1465.40    68410.0\n",
       "2024-05-17  1455.00  1468.00  1449.00   1464.90   692540.0\n",
       "2024-05-16  1442.55  1462.00  1436.00   1460.15   458835.0\n",
       "2024-05-15  1459.60  1459.60  1436.00   1438.85   531031.0\n",
       "2024-05-14  1450.65  1465.30  1450.15   1461.80   351466.0\n",
       "\n",
       "[100 rows x 5 columns]"
      ]
     },
     "execution_count": 25,
     "metadata": {},
     "output_type": "execute_result"
    }
   ],
   "source": [
    "df2 = client.daily_data(symbol=\"HDFCBANK.BSE\")\n",
    "df2"
   ]
  },
  {
   "cell_type": "code",
   "execution_count": 26,
   "metadata": {},
   "outputs": [],
   "source": [
    "df2.to_csv(\"HDFCBank.csv\")"
   ]
  },
  {
   "cell_type": "code",
   "execution_count": 27,
   "metadata": {},
   "outputs": [
    {
     "data": {
      "application/vnd.plotly.v1+json": {
       "config": {
        "plotlyServerURL": "https://plot.ly"
       },
       "data": [
        {
         "close": [
          1656.8,
          1682.15,
          1726.15,
          1732,
          1752.85,
          1782.3,
          1778.85,
          1768.45,
          1759.25,
          1742.15,
          1708.15,
          1694.35,
          1668.7,
          1671,
          1665.35,
          1666,
          1644.35,
          1650.6,
          1647.5,
          1637,
          1645.25,
          1641.95,
          1637.8,
          1626.15,
          1632.95,
          1638.5,
          1636.4,
          1637.05,
          1639.6,
          1625.6,
          1631.75,
          1626.5,
          1637.4,
          1631.55,
          1632.35,
          1607.9,
          1603.6,
          1661.05,
          1649.5,
          1642.1,
          1624.9,
          1601,
          1615.15,
          1659.55,
          1640.4,
          1617.05,
          1615.3,
          1606.75,
          1617.8,
          1616.3,
          1604.7,
          1618,
          1640.8,
          1607.1,
          1614.5,
          1619.9,
          1622.1,
          1624.35,
          1621.7,
          1626.25,
          1636.5,
          1634.9,
          1648.1,
          1726.6,
          1768.35,
          1730.55,
          1704.75,
          1683.55,
          1696.5,
          1699.5,
          1710.9,
          1672.1,
          1665.4,
          1669,
          1658,
          1608.75,
          1597.45,
          1580.9,
          1573.85,
          1564.75,
          1561.5,
          1573.25,
          1559.45,
          1551.3,
          1482.75,
          1572.1,
          1530.85,
          1514.6,
          1507.85,
          1530.5,
          1527.95,
          1516.65,
          1492.2,
          1459.75,
          1458.4,
          1465.4,
          1464.9,
          1460.15,
          1438.85,
          1461.8
         ],
         "high": [
          1690.4,
          1725.9,
          1742,
          1752,
          1778.1,
          1787.8,
          1787.9,
          1781.8,
          1766.65,
          1745,
          1718.9,
          1698.8,
          1677,
          1677.65,
          1674,
          1669.5,
          1652.2,
          1654,
          1649.7,
          1647.05,
          1649.9,
          1643.7,
          1639.95,
          1645.7,
          1660.75,
          1644.4,
          1640.2,
          1647.35,
          1647.55,
          1634.85,
          1638,
          1634.35,
          1645.8,
          1637.05,
          1634.6,
          1613.55,
          1631.55,
          1675.6,
          1662.5,
          1652.95,
          1628.5,
          1632.85,
          1645.7,
          1670.1,
          1649,
          1627.5,
          1634.35,
          1631.7,
          1621.9,
          1624.85,
          1621,
          1649.95,
          1650.75,
          1623.6,
          1623.9,
          1626.8,
          1630,
          1638,
          1625.95,
          1640,
          1646.8,
          1655,
          1688.95,
          1760,
          1791.9,
          1734.9,
          1707.75,
          1706.1,
          1713,
          1710.7,
          1717.1,
          1675.75,
          1673.55,
          1681.2,
          1669.95,
          1610.65,
          1599.7,
          1586,
          1588,
          1570.85,
          1580.5,
          1584,
          1565,
          1559.7,
          1559.7,
          1597,
          1535,
          1524,
          1523.85,
          1535.45,
          1544.95,
          1519.95,
          1495,
          1465.7,
          1469.75,
          1468.95,
          1468,
          1462,
          1459.6,
          1465.3
         ],
         "low": [
          1652.4,
          1673.8,
          1720.05,
          1724,
          1750,
          1768.1,
          1760.9,
          1754,
          1739.95,
          1707.55,
          1696,
          1671,
          1663.85,
          1660.6,
          1657.15,
          1647.35,
          1639.1,
          1638,
          1629.65,
          1634,
          1641.8,
          1631.6,
          1624.85,
          1620.2,
          1622.95,
          1631.15,
          1630.25,
          1632.2,
          1631.05,
          1622.95,
          1628.1,
          1618,
          1628.15,
          1623.15,
          1611.6,
          1603.1,
          1601.2,
          1641.25,
          1646.1,
          1619,
          1603,
          1593.2,
          1601.2,
          1631,
          1619,
          1609.5,
          1600,
          1598.2,
          1596.55,
          1594.3,
          1588.5,
          1604.75,
          1613,
          1603.15,
          1598.85,
          1617,
          1615.2,
          1611.3,
          1601,
          1621,
          1623.25,
          1626.85,
          1642.05,
          1724.15,
          1765.2,
          1703,
          1680.75,
          1678.8,
          1687,
          1691.1,
          1672,
          1645.7,
          1642.9,
          1651.5,
          1603.9,
          1589.15,
          1578.75,
          1574.15,
          1566.5,
          1552,
          1557,
          1552.6,
          1546.85,
          1482.5,
          1452.85,
          1555,
          1514.5,
          1498.25,
          1501.7,
          1524.9,
          1519,
          1487.1,
          1457.6,
          1449,
          1454,
          1463.4,
          1449,
          1436,
          1436,
          1450.15
         ],
         "open": [
          1668.95,
          1710.05,
          1724.1,
          1751,
          1778.1,
          1778.8,
          1762.65,
          1764,
          1742.2,
          1715.25,
          1696,
          1671,
          1672.55,
          1660.6,
          1672,
          1648.3,
          1650,
          1652.4,
          1638.2,
          1640.8,
          1643.3,
          1637,
          1635.05,
          1645.7,
          1655,
          1642,
          1635.6,
          1640.85,
          1631.05,
          1634,
          1632,
          1626.5,
          1629.95,
          1635.75,
          1622,
          1607.9,
          1628,
          1641.25,
          1655.95,
          1627.3,
          1620.95,
          1621.25,
          1626,
          1631,
          1621.4,
          1618.95,
          1603,
          1610.2,
          1603.95,
          1594.3,
          1615.75,
          1649.95,
          1615.05,
          1618.5,
          1607.4,
          1620,
          1622.2,
          1622,
          1625.95,
          1636.45,
          1629.95,
          1641.95,
          1688.95,
          1760,
          1789,
          1715,
          1682,
          1697.95,
          1698.4,
          1709.6,
          1672.1,
          1649.95,
          1673,
          1663.05,
          1611,
          1595,
          1582.05,
          1580,
          1573.2,
          1557.95,
          1577.95,
          1560.5,
          1565,
          1499.95,
          1550,
          1587.05,
          1519.9,
          1500,
          1523.55,
          1527.95,
          1523.35,
          1489.45,
          1458,
          1462.1,
          1454,
          1464.25,
          1455,
          1442.55,
          1459.6,
          1450.65
         ],
         "type": "candlestick",
         "x": [
          "2024-10-04T00:00:00",
          "2024-10-03T00:00:00",
          "2024-10-01T00:00:00",
          "2024-09-30T00:00:00",
          "2024-09-27T00:00:00",
          "2024-09-26T00:00:00",
          "2024-09-25T00:00:00",
          "2024-09-24T00:00:00",
          "2024-09-23T00:00:00",
          "2024-09-20T00:00:00",
          "2024-09-19T00:00:00",
          "2024-09-18T00:00:00",
          "2024-09-17T00:00:00",
          "2024-09-16T00:00:00",
          "2024-09-13T00:00:00",
          "2024-09-12T00:00:00",
          "2024-09-11T00:00:00",
          "2024-09-10T00:00:00",
          "2024-09-09T00:00:00",
          "2024-09-06T00:00:00",
          "2024-09-05T00:00:00",
          "2024-09-04T00:00:00",
          "2024-09-03T00:00:00",
          "2024-09-02T00:00:00",
          "2024-08-30T00:00:00",
          "2024-08-29T00:00:00",
          "2024-08-28T00:00:00",
          "2024-08-27T00:00:00",
          "2024-08-26T00:00:00",
          "2024-08-23T00:00:00",
          "2024-08-22T00:00:00",
          "2024-08-21T00:00:00",
          "2024-08-20T00:00:00",
          "2024-08-19T00:00:00",
          "2024-08-16T00:00:00",
          "2024-08-14T00:00:00",
          "2024-08-13T00:00:00",
          "2024-08-12T00:00:00",
          "2024-08-09T00:00:00",
          "2024-08-08T00:00:00",
          "2024-08-07T00:00:00",
          "2024-08-06T00:00:00",
          "2024-08-05T00:00:00",
          "2024-08-02T00:00:00",
          "2024-08-01T00:00:00",
          "2024-07-31T00:00:00",
          "2024-07-30T00:00:00",
          "2024-07-29T00:00:00",
          "2024-07-26T00:00:00",
          "2024-07-25T00:00:00",
          "2024-07-24T00:00:00",
          "2024-07-23T00:00:00",
          "2024-07-22T00:00:00",
          "2024-07-19T00:00:00",
          "2024-07-18T00:00:00",
          "2024-07-16T00:00:00",
          "2024-07-15T00:00:00",
          "2024-07-12T00:00:00",
          "2024-07-11T00:00:00",
          "2024-07-10T00:00:00",
          "2024-07-09T00:00:00",
          "2024-07-08T00:00:00",
          "2024-07-05T00:00:00",
          "2024-07-04T00:00:00",
          "2024-07-03T00:00:00",
          "2024-07-02T00:00:00",
          "2024-07-01T00:00:00",
          "2024-06-28T00:00:00",
          "2024-06-27T00:00:00",
          "2024-06-26T00:00:00",
          "2024-06-25T00:00:00",
          "2024-06-24T00:00:00",
          "2024-06-21T00:00:00",
          "2024-06-20T00:00:00",
          "2024-06-19T00:00:00",
          "2024-06-18T00:00:00",
          "2024-06-14T00:00:00",
          "2024-06-13T00:00:00",
          "2024-06-12T00:00:00",
          "2024-06-11T00:00:00",
          "2024-06-10T00:00:00",
          "2024-06-07T00:00:00",
          "2024-06-06T00:00:00",
          "2024-06-05T00:00:00",
          "2024-06-04T00:00:00",
          "2024-06-03T00:00:00",
          "2024-05-31T00:00:00",
          "2024-05-30T00:00:00",
          "2024-05-29T00:00:00",
          "2024-05-28T00:00:00",
          "2024-05-27T00:00:00",
          "2024-05-24T00:00:00",
          "2024-05-23T00:00:00",
          "2024-05-22T00:00:00",
          "2024-05-21T00:00:00",
          "2024-05-18T00:00:00",
          "2024-05-17T00:00:00",
          "2024-05-16T00:00:00",
          "2024-05-15T00:00:00",
          "2024-05-14T00:00:00"
         ]
        }
       ],
       "layout": {
        "height": 800,
        "template": {
         "data": {
          "bar": [
           {
            "error_x": {
             "color": "#2a3f5f"
            },
            "error_y": {
             "color": "#2a3f5f"
            },
            "marker": {
             "line": {
              "color": "#E5ECF6",
              "width": 0.5
             },
             "pattern": {
              "fillmode": "overlay",
              "size": 10,
              "solidity": 0.2
             }
            },
            "type": "bar"
           }
          ],
          "barpolar": [
           {
            "marker": {
             "line": {
              "color": "#E5ECF6",
              "width": 0.5
             },
             "pattern": {
              "fillmode": "overlay",
              "size": 10,
              "solidity": 0.2
             }
            },
            "type": "barpolar"
           }
          ],
          "carpet": [
           {
            "aaxis": {
             "endlinecolor": "#2a3f5f",
             "gridcolor": "white",
             "linecolor": "white",
             "minorgridcolor": "white",
             "startlinecolor": "#2a3f5f"
            },
            "baxis": {
             "endlinecolor": "#2a3f5f",
             "gridcolor": "white",
             "linecolor": "white",
             "minorgridcolor": "white",
             "startlinecolor": "#2a3f5f"
            },
            "type": "carpet"
           }
          ],
          "choropleth": [
           {
            "colorbar": {
             "outlinewidth": 0,
             "ticks": ""
            },
            "type": "choropleth"
           }
          ],
          "contour": [
           {
            "colorbar": {
             "outlinewidth": 0,
             "ticks": ""
            },
            "colorscale": [
             [
              0,
              "#0d0887"
             ],
             [
              0.1111111111111111,
              "#46039f"
             ],
             [
              0.2222222222222222,
              "#7201a8"
             ],
             [
              0.3333333333333333,
              "#9c179e"
             ],
             [
              0.4444444444444444,
              "#bd3786"
             ],
             [
              0.5555555555555556,
              "#d8576b"
             ],
             [
              0.6666666666666666,
              "#ed7953"
             ],
             [
              0.7777777777777778,
              "#fb9f3a"
             ],
             [
              0.8888888888888888,
              "#fdca26"
             ],
             [
              1,
              "#f0f921"
             ]
            ],
            "type": "contour"
           }
          ],
          "contourcarpet": [
           {
            "colorbar": {
             "outlinewidth": 0,
             "ticks": ""
            },
            "type": "contourcarpet"
           }
          ],
          "heatmap": [
           {
            "colorbar": {
             "outlinewidth": 0,
             "ticks": ""
            },
            "colorscale": [
             [
              0,
              "#0d0887"
             ],
             [
              0.1111111111111111,
              "#46039f"
             ],
             [
              0.2222222222222222,
              "#7201a8"
             ],
             [
              0.3333333333333333,
              "#9c179e"
             ],
             [
              0.4444444444444444,
              "#bd3786"
             ],
             [
              0.5555555555555556,
              "#d8576b"
             ],
             [
              0.6666666666666666,
              "#ed7953"
             ],
             [
              0.7777777777777778,
              "#fb9f3a"
             ],
             [
              0.8888888888888888,
              "#fdca26"
             ],
             [
              1,
              "#f0f921"
             ]
            ],
            "type": "heatmap"
           }
          ],
          "heatmapgl": [
           {
            "colorbar": {
             "outlinewidth": 0,
             "ticks": ""
            },
            "colorscale": [
             [
              0,
              "#0d0887"
             ],
             [
              0.1111111111111111,
              "#46039f"
             ],
             [
              0.2222222222222222,
              "#7201a8"
             ],
             [
              0.3333333333333333,
              "#9c179e"
             ],
             [
              0.4444444444444444,
              "#bd3786"
             ],
             [
              0.5555555555555556,
              "#d8576b"
             ],
             [
              0.6666666666666666,
              "#ed7953"
             ],
             [
              0.7777777777777778,
              "#fb9f3a"
             ],
             [
              0.8888888888888888,
              "#fdca26"
             ],
             [
              1,
              "#f0f921"
             ]
            ],
            "type": "heatmapgl"
           }
          ],
          "histogram": [
           {
            "marker": {
             "pattern": {
              "fillmode": "overlay",
              "size": 10,
              "solidity": 0.2
             }
            },
            "type": "histogram"
           }
          ],
          "histogram2d": [
           {
            "colorbar": {
             "outlinewidth": 0,
             "ticks": ""
            },
            "colorscale": [
             [
              0,
              "#0d0887"
             ],
             [
              0.1111111111111111,
              "#46039f"
             ],
             [
              0.2222222222222222,
              "#7201a8"
             ],
             [
              0.3333333333333333,
              "#9c179e"
             ],
             [
              0.4444444444444444,
              "#bd3786"
             ],
             [
              0.5555555555555556,
              "#d8576b"
             ],
             [
              0.6666666666666666,
              "#ed7953"
             ],
             [
              0.7777777777777778,
              "#fb9f3a"
             ],
             [
              0.8888888888888888,
              "#fdca26"
             ],
             [
              1,
              "#f0f921"
             ]
            ],
            "type": "histogram2d"
           }
          ],
          "histogram2dcontour": [
           {
            "colorbar": {
             "outlinewidth": 0,
             "ticks": ""
            },
            "colorscale": [
             [
              0,
              "#0d0887"
             ],
             [
              0.1111111111111111,
              "#46039f"
             ],
             [
              0.2222222222222222,
              "#7201a8"
             ],
             [
              0.3333333333333333,
              "#9c179e"
             ],
             [
              0.4444444444444444,
              "#bd3786"
             ],
             [
              0.5555555555555556,
              "#d8576b"
             ],
             [
              0.6666666666666666,
              "#ed7953"
             ],
             [
              0.7777777777777778,
              "#fb9f3a"
             ],
             [
              0.8888888888888888,
              "#fdca26"
             ],
             [
              1,
              "#f0f921"
             ]
            ],
            "type": "histogram2dcontour"
           }
          ],
          "mesh3d": [
           {
            "colorbar": {
             "outlinewidth": 0,
             "ticks": ""
            },
            "type": "mesh3d"
           }
          ],
          "parcoords": [
           {
            "line": {
             "colorbar": {
              "outlinewidth": 0,
              "ticks": ""
             }
            },
            "type": "parcoords"
           }
          ],
          "pie": [
           {
            "automargin": true,
            "type": "pie"
           }
          ],
          "scatter": [
           {
            "fillpattern": {
             "fillmode": "overlay",
             "size": 10,
             "solidity": 0.2
            },
            "type": "scatter"
           }
          ],
          "scatter3d": [
           {
            "line": {
             "colorbar": {
              "outlinewidth": 0,
              "ticks": ""
             }
            },
            "marker": {
             "colorbar": {
              "outlinewidth": 0,
              "ticks": ""
             }
            },
            "type": "scatter3d"
           }
          ],
          "scattercarpet": [
           {
            "marker": {
             "colorbar": {
              "outlinewidth": 0,
              "ticks": ""
             }
            },
            "type": "scattercarpet"
           }
          ],
          "scattergeo": [
           {
            "marker": {
             "colorbar": {
              "outlinewidth": 0,
              "ticks": ""
             }
            },
            "type": "scattergeo"
           }
          ],
          "scattergl": [
           {
            "marker": {
             "colorbar": {
              "outlinewidth": 0,
              "ticks": ""
             }
            },
            "type": "scattergl"
           }
          ],
          "scattermapbox": [
           {
            "marker": {
             "colorbar": {
              "outlinewidth": 0,
              "ticks": ""
             }
            },
            "type": "scattermapbox"
           }
          ],
          "scatterpolar": [
           {
            "marker": {
             "colorbar": {
              "outlinewidth": 0,
              "ticks": ""
             }
            },
            "type": "scatterpolar"
           }
          ],
          "scatterpolargl": [
           {
            "marker": {
             "colorbar": {
              "outlinewidth": 0,
              "ticks": ""
             }
            },
            "type": "scatterpolargl"
           }
          ],
          "scatterternary": [
           {
            "marker": {
             "colorbar": {
              "outlinewidth": 0,
              "ticks": ""
             }
            },
            "type": "scatterternary"
           }
          ],
          "surface": [
           {
            "colorbar": {
             "outlinewidth": 0,
             "ticks": ""
            },
            "colorscale": [
             [
              0,
              "#0d0887"
             ],
             [
              0.1111111111111111,
              "#46039f"
             ],
             [
              0.2222222222222222,
              "#7201a8"
             ],
             [
              0.3333333333333333,
              "#9c179e"
             ],
             [
              0.4444444444444444,
              "#bd3786"
             ],
             [
              0.5555555555555556,
              "#d8576b"
             ],
             [
              0.6666666666666666,
              "#ed7953"
             ],
             [
              0.7777777777777778,
              "#fb9f3a"
             ],
             [
              0.8888888888888888,
              "#fdca26"
             ],
             [
              1,
              "#f0f921"
             ]
            ],
            "type": "surface"
           }
          ],
          "table": [
           {
            "cells": {
             "fill": {
              "color": "#EBF0F8"
             },
             "line": {
              "color": "white"
             }
            },
            "header": {
             "fill": {
              "color": "#C8D4E3"
             },
             "line": {
              "color": "white"
             }
            },
            "type": "table"
           }
          ]
         },
         "layout": {
          "annotationdefaults": {
           "arrowcolor": "#2a3f5f",
           "arrowhead": 0,
           "arrowwidth": 1
          },
          "autotypenumbers": "strict",
          "coloraxis": {
           "colorbar": {
            "outlinewidth": 0,
            "ticks": ""
           }
          },
          "colorscale": {
           "diverging": [
            [
             0,
             "#8e0152"
            ],
            [
             0.1,
             "#c51b7d"
            ],
            [
             0.2,
             "#de77ae"
            ],
            [
             0.3,
             "#f1b6da"
            ],
            [
             0.4,
             "#fde0ef"
            ],
            [
             0.5,
             "#f7f7f7"
            ],
            [
             0.6,
             "#e6f5d0"
            ],
            [
             0.7,
             "#b8e186"
            ],
            [
             0.8,
             "#7fbc41"
            ],
            [
             0.9,
             "#4d9221"
            ],
            [
             1,
             "#276419"
            ]
           ],
           "sequential": [
            [
             0,
             "#0d0887"
            ],
            [
             0.1111111111111111,
             "#46039f"
            ],
            [
             0.2222222222222222,
             "#7201a8"
            ],
            [
             0.3333333333333333,
             "#9c179e"
            ],
            [
             0.4444444444444444,
             "#bd3786"
            ],
            [
             0.5555555555555556,
             "#d8576b"
            ],
            [
             0.6666666666666666,
             "#ed7953"
            ],
            [
             0.7777777777777778,
             "#fb9f3a"
            ],
            [
             0.8888888888888888,
             "#fdca26"
            ],
            [
             1,
             "#f0f921"
            ]
           ],
           "sequentialminus": [
            [
             0,
             "#0d0887"
            ],
            [
             0.1111111111111111,
             "#46039f"
            ],
            [
             0.2222222222222222,
             "#7201a8"
            ],
            [
             0.3333333333333333,
             "#9c179e"
            ],
            [
             0.4444444444444444,
             "#bd3786"
            ],
            [
             0.5555555555555556,
             "#d8576b"
            ],
            [
             0.6666666666666666,
             "#ed7953"
            ],
            [
             0.7777777777777778,
             "#fb9f3a"
            ],
            [
             0.8888888888888888,
             "#fdca26"
            ],
            [
             1,
             "#f0f921"
            ]
           ]
          },
          "colorway": [
           "#636efa",
           "#EF553B",
           "#00cc96",
           "#ab63fa",
           "#FFA15A",
           "#19d3f3",
           "#FF6692",
           "#B6E880",
           "#FF97FF",
           "#FECB52"
          ],
          "font": {
           "color": "#2a3f5f"
          },
          "geo": {
           "bgcolor": "white",
           "lakecolor": "white",
           "landcolor": "#E5ECF6",
           "showlakes": true,
           "showland": true,
           "subunitcolor": "white"
          },
          "hoverlabel": {
           "align": "left"
          },
          "hovermode": "closest",
          "mapbox": {
           "style": "light"
          },
          "paper_bgcolor": "white",
          "plot_bgcolor": "#E5ECF6",
          "polar": {
           "angularaxis": {
            "gridcolor": "white",
            "linecolor": "white",
            "ticks": ""
           },
           "bgcolor": "#E5ECF6",
           "radialaxis": {
            "gridcolor": "white",
            "linecolor": "white",
            "ticks": ""
           }
          },
          "scene": {
           "xaxis": {
            "backgroundcolor": "#E5ECF6",
            "gridcolor": "white",
            "gridwidth": 2,
            "linecolor": "white",
            "showbackground": true,
            "ticks": "",
            "zerolinecolor": "white"
           },
           "yaxis": {
            "backgroundcolor": "#E5ECF6",
            "gridcolor": "white",
            "gridwidth": 2,
            "linecolor": "white",
            "showbackground": true,
            "ticks": "",
            "zerolinecolor": "white"
           },
           "zaxis": {
            "backgroundcolor": "#E5ECF6",
            "gridcolor": "white",
            "gridwidth": 2,
            "linecolor": "white",
            "showbackground": true,
            "ticks": "",
            "zerolinecolor": "white"
           }
          },
          "shapedefaults": {
           "line": {
            "color": "#2a3f5f"
           }
          },
          "ternary": {
           "aaxis": {
            "gridcolor": "white",
            "linecolor": "white",
            "ticks": ""
           },
           "baxis": {
            "gridcolor": "white",
            "linecolor": "white",
            "ticks": ""
           },
           "bgcolor": "#E5ECF6",
           "caxis": {
            "gridcolor": "white",
            "linecolor": "white",
            "ticks": ""
           }
          },
          "title": {
           "x": 0.05
          },
          "xaxis": {
           "automargin": true,
           "gridcolor": "white",
           "linecolor": "white",
           "ticks": "",
           "title": {
            "standoff": 15
           },
           "zerolinecolor": "white",
           "zerolinewidth": 2
          },
          "yaxis": {
           "automargin": true,
           "gridcolor": "white",
           "linecolor": "white",
           "ticks": "",
           "title": {
            "standoff": 15
           },
           "zerolinecolor": "white",
           "zerolinewidth": 2
          }
         }
        },
        "width": 1000
       }
      }
     },
     "metadata": {},
     "output_type": "display_data"
    }
   ],
   "source": [
    "client.plot_chart(symbol=\"HDFCBANK.BSE\")"
   ]
  },
  {
   "cell_type": "code",
   "execution_count": 28,
   "metadata": {},
   "outputs": [
    {
     "data": {
      "text/html": [
       "<div>\n",
       "<style scoped>\n",
       "    .dataframe tbody tr th:only-of-type {\n",
       "        vertical-align: middle;\n",
       "    }\n",
       "\n",
       "    .dataframe tbody tr th {\n",
       "        vertical-align: top;\n",
       "    }\n",
       "\n",
       "    .dataframe thead th {\n",
       "        text-align: right;\n",
       "    }\n",
       "</style>\n",
       "<table border=\"1\" class=\"dataframe\">\n",
       "  <thead>\n",
       "    <tr style=\"text-align: right;\">\n",
       "      <th></th>\n",
       "      <th>1. symbol</th>\n",
       "      <th>2. name</th>\n",
       "      <th>3. type</th>\n",
       "      <th>4. region</th>\n",
       "      <th>5. marketOpen</th>\n",
       "      <th>6. marketClose</th>\n",
       "      <th>7. timezone</th>\n",
       "      <th>8. currency</th>\n",
       "      <th>9. matchScore</th>\n",
       "    </tr>\n",
       "  </thead>\n",
       "  <tbody>\n",
       "    <tr>\n",
       "      <th>0</th>\n",
       "      <td>GODREJCP.BSE</td>\n",
       "      <td>GODREJ CONSUMER PRODUCTS LTD.</td>\n",
       "      <td>Equity</td>\n",
       "      <td>India/Bombay</td>\n",
       "      <td>09:15</td>\n",
       "      <td>15:30</td>\n",
       "      <td>UTC+5.5</td>\n",
       "      <td>INR</td>\n",
       "      <td>0.7059</td>\n",
       "    </tr>\n",
       "    <tr>\n",
       "      <th>1</th>\n",
       "      <td>GODREJIND.BSE</td>\n",
       "      <td>GODREJ INDUSTRIES LTD.</td>\n",
       "      <td>Equity</td>\n",
       "      <td>India/Bombay</td>\n",
       "      <td>09:15</td>\n",
       "      <td>15:30</td>\n",
       "      <td>UTC+5.5</td>\n",
       "      <td>INR</td>\n",
       "      <td>0.6667</td>\n",
       "    </tr>\n",
       "    <tr>\n",
       "      <th>2</th>\n",
       "      <td>GODREJAGRO.BSE</td>\n",
       "      <td>Godrej Agrovet Ltd</td>\n",
       "      <td>Equity</td>\n",
       "      <td>India/Bombay</td>\n",
       "      <td>09:15</td>\n",
       "      <td>15:30</td>\n",
       "      <td>UTC+5.5</td>\n",
       "      <td>INR</td>\n",
       "      <td>0.6316</td>\n",
       "    </tr>\n",
       "    <tr>\n",
       "      <th>3</th>\n",
       "      <td>GODREJPROP.BSE</td>\n",
       "      <td>Godrej Properties Ltd</td>\n",
       "      <td>Equity</td>\n",
       "      <td>India/Bombay</td>\n",
       "      <td>09:15</td>\n",
       "      <td>15:30</td>\n",
       "      <td>UTC+5.5</td>\n",
       "      <td>INR</td>\n",
       "      <td>0.6316</td>\n",
       "    </tr>\n",
       "    <tr>\n",
       "      <th>4</th>\n",
       "      <td>540743.BSE</td>\n",
       "      <td>Godrej Agrovet Limited</td>\n",
       "      <td>Equity</td>\n",
       "      <td>India/Bombay</td>\n",
       "      <td>09:15</td>\n",
       "      <td>15:30</td>\n",
       "      <td>UTC+5.5</td>\n",
       "      <td>INR</td>\n",
       "      <td>0.4286</td>\n",
       "    </tr>\n",
       "    <tr>\n",
       "      <th>5</th>\n",
       "      <td>532424.BSE</td>\n",
       "      <td>Godrej Consumer Products Limited</td>\n",
       "      <td>Equity</td>\n",
       "      <td>India/Bombay</td>\n",
       "      <td>09:15</td>\n",
       "      <td>15:30</td>\n",
       "      <td>UTC+5.5</td>\n",
       "      <td>INR</td>\n",
       "      <td>0.3158</td>\n",
       "    </tr>\n",
       "  </tbody>\n",
       "</table>\n",
       "</div>"
      ],
      "text/plain": [
       "        1. symbol                           2. name 3. type     4. region  \\\n",
       "0    GODREJCP.BSE     GODREJ CONSUMER PRODUCTS LTD.  Equity  India/Bombay   \n",
       "1   GODREJIND.BSE            GODREJ INDUSTRIES LTD.  Equity  India/Bombay   \n",
       "2  GODREJAGRO.BSE                Godrej Agrovet Ltd  Equity  India/Bombay   \n",
       "3  GODREJPROP.BSE             Godrej Properties Ltd  Equity  India/Bombay   \n",
       "4      540743.BSE            Godrej Agrovet Limited  Equity  India/Bombay   \n",
       "5      532424.BSE  Godrej Consumer Products Limited  Equity  India/Bombay   \n",
       "\n",
       "  5. marketOpen 6. marketClose 7. timezone 8. currency 9. matchScore  \n",
       "0         09:15          15:30     UTC+5.5         INR        0.7059  \n",
       "1         09:15          15:30     UTC+5.5         INR        0.6667  \n",
       "2         09:15          15:30     UTC+5.5         INR        0.6316  \n",
       "3         09:15          15:30     UTC+5.5         INR        0.6316  \n",
       "4         09:15          15:30     UTC+5.5         INR        0.4286  \n",
       "5         09:15          15:30     UTC+5.5         INR        0.3158  "
      ]
     },
     "execution_count": 28,
     "metadata": {},
     "output_type": "execute_result"
    }
   ],
   "source": [
    "df3 = client.symbol_search(company=\"Godrej\")\n",
    "df3"
   ]
  },
  {
   "cell_type": "code",
   "execution_count": 29,
   "metadata": {},
   "outputs": [
    {
     "data": {
      "text/html": [
       "<div>\n",
       "<style scoped>\n",
       "    .dataframe tbody tr th:only-of-type {\n",
       "        vertical-align: middle;\n",
       "    }\n",
       "\n",
       "    .dataframe tbody tr th {\n",
       "        vertical-align: top;\n",
       "    }\n",
       "\n",
       "    .dataframe thead th {\n",
       "        text-align: right;\n",
       "    }\n",
       "</style>\n",
       "<table border=\"1\" class=\"dataframe\">\n",
       "  <thead>\n",
       "    <tr style=\"text-align: right;\">\n",
       "      <th></th>\n",
       "      <th>1. open</th>\n",
       "      <th>2. high</th>\n",
       "      <th>3. low</th>\n",
       "      <th>4. close</th>\n",
       "      <th>5. volume</th>\n",
       "    </tr>\n",
       "  </thead>\n",
       "  <tbody>\n",
       "    <tr>\n",
       "      <th>2024-10-04</th>\n",
       "      <td>1123.90</td>\n",
       "      <td>1128.40</td>\n",
       "      <td>1080.00</td>\n",
       "      <td>1112.50</td>\n",
       "      <td>17900.0</td>\n",
       "    </tr>\n",
       "    <tr>\n",
       "      <th>2024-10-03</th>\n",
       "      <td>1191.50</td>\n",
       "      <td>1191.50</td>\n",
       "      <td>1112.50</td>\n",
       "      <td>1116.70</td>\n",
       "      <td>15807.0</td>\n",
       "    </tr>\n",
       "    <tr>\n",
       "      <th>2024-10-01</th>\n",
       "      <td>1234.00</td>\n",
       "      <td>1245.00</td>\n",
       "      <td>1180.05</td>\n",
       "      <td>1191.15</td>\n",
       "      <td>17529.0</td>\n",
       "    </tr>\n",
       "    <tr>\n",
       "      <th>2024-09-30</th>\n",
       "      <td>1233.90</td>\n",
       "      <td>1243.15</td>\n",
       "      <td>1225.05</td>\n",
       "      <td>1236.80</td>\n",
       "      <td>7022.0</td>\n",
       "    </tr>\n",
       "    <tr>\n",
       "      <th>2024-09-27</th>\n",
       "      <td>1253.80</td>\n",
       "      <td>1253.80</td>\n",
       "      <td>1216.80</td>\n",
       "      <td>1233.90</td>\n",
       "      <td>4711.0</td>\n",
       "    </tr>\n",
       "    <tr>\n",
       "      <th>...</th>\n",
       "      <td>...</td>\n",
       "      <td>...</td>\n",
       "      <td>...</td>\n",
       "      <td>...</td>\n",
       "      <td>...</td>\n",
       "    </tr>\n",
       "    <tr>\n",
       "      <th>2024-05-18</th>\n",
       "      <td>792.00</td>\n",
       "      <td>794.20</td>\n",
       "      <td>781.75</td>\n",
       "      <td>794.20</td>\n",
       "      <td>2971.0</td>\n",
       "    </tr>\n",
       "    <tr>\n",
       "      <th>2024-05-17</th>\n",
       "      <td>800.00</td>\n",
       "      <td>801.75</td>\n",
       "      <td>792.90</td>\n",
       "      <td>795.10</td>\n",
       "      <td>8820.0</td>\n",
       "    </tr>\n",
       "    <tr>\n",
       "      <th>2024-05-16</th>\n",
       "      <td>800.80</td>\n",
       "      <td>804.75</td>\n",
       "      <td>793.70</td>\n",
       "      <td>798.65</td>\n",
       "      <td>10236.0</td>\n",
       "    </tr>\n",
       "    <tr>\n",
       "      <th>2024-05-15</th>\n",
       "      <td>818.65</td>\n",
       "      <td>818.65</td>\n",
       "      <td>796.50</td>\n",
       "      <td>800.70</td>\n",
       "      <td>11770.0</td>\n",
       "    </tr>\n",
       "    <tr>\n",
       "      <th>2024-05-14</th>\n",
       "      <td>830.55</td>\n",
       "      <td>832.35</td>\n",
       "      <td>798.60</td>\n",
       "      <td>802.60</td>\n",
       "      <td>12291.0</td>\n",
       "    </tr>\n",
       "  </tbody>\n",
       "</table>\n",
       "<p>100 rows × 5 columns</p>\n",
       "</div>"
      ],
      "text/plain": [
       "            1. open  2. high   3. low  4. close  5. volume\n",
       "2024-10-04  1123.90  1128.40  1080.00   1112.50    17900.0\n",
       "2024-10-03  1191.50  1191.50  1112.50   1116.70    15807.0\n",
       "2024-10-01  1234.00  1245.00  1180.05   1191.15    17529.0\n",
       "2024-09-30  1233.90  1243.15  1225.05   1236.80     7022.0\n",
       "2024-09-27  1253.80  1253.80  1216.80   1233.90     4711.0\n",
       "...             ...      ...      ...       ...        ...\n",
       "2024-05-18   792.00   794.20   781.75    794.20     2971.0\n",
       "2024-05-17   800.00   801.75   792.90    795.10     8820.0\n",
       "2024-05-16   800.80   804.75   793.70    798.65    10236.0\n",
       "2024-05-15   818.65   818.65   796.50    800.70    11770.0\n",
       "2024-05-14   830.55   832.35   798.60    802.60    12291.0\n",
       "\n",
       "[100 rows x 5 columns]"
      ]
     },
     "execution_count": 29,
     "metadata": {},
     "output_type": "execute_result"
    }
   ],
   "source": [
    "df4 = client.daily_data(symbol=\"GODREJIND.BSE\")\n",
    "df4"
   ]
  },
  {
   "cell_type": "code",
   "execution_count": 30,
   "metadata": {},
   "outputs": [],
   "source": [
    "df4.to_csv(\"GodrejInd.csv\")"
   ]
  },
  {
   "cell_type": "code",
   "execution_count": 31,
   "metadata": {},
   "outputs": [
    {
     "data": {
      "application/vnd.plotly.v1+json": {
       "config": {
        "plotlyServerURL": "https://plot.ly"
       },
       "data": [
        {
         "close": [
          1112.5,
          1116.7,
          1191.15,
          1236.8,
          1233.9,
          1235.75,
          1226.5,
          1231.05,
          1237.6,
          1202.9,
          1201.55,
          1201.45,
          1228.35,
          1222.45,
          1202,
          1203.4,
          1203.95,
          1207,
          1212.9,
          1211.8,
          1209.55,
          1202.55,
          1193.6,
          1060.8,
          1015.4,
          1013.85,
          1001.9,
          1007.75,
          951.55,
          939.4,
          936.65,
          940.85,
          932.55,
          915.75,
          905.5,
          889.95,
          887.35,
          899.7,
          882,
          871,
          875,
          871.6,
          876.9,
          922.1,
          951.25,
          907.8,
          908.85,
          903.75,
          894.3,
          892,
          888.75,
          894.6,
          890.25,
          880.5,
          885.15,
          901.25,
          903.45,
          902.6,
          906.15,
          913.25,
          916.4,
          899.9,
          892.55,
          887.75,
          898.3,
          897.8,
          885.95,
          854.95,
          844.6,
          846.7,
          842.15,
          831.7,
          798.95,
          822.3,
          813.1,
          818.6,
          825.6,
          834.2,
          800.2,
          799.75,
          804.9,
          814.7,
          803.7,
          789.05,
          791.95,
          790.55,
          786.25,
          803.6,
          835.5,
          835.55,
          847.6,
          824.55,
          848.75,
          835.5,
          820.65,
          794.2,
          795.1,
          798.65,
          800.7,
          802.6
         ],
         "high": [
          1128.4,
          1191.5,
          1245,
          1243.15,
          1253.8,
          1263.2,
          1255.7,
          1270.05,
          1242,
          1214.8,
          1222.1,
          1236.15,
          1238.2,
          1245.95,
          1224.8,
          1220.55,
          1245,
          1229.85,
          1230,
          1313.95,
          1231,
          1254.6,
          1272.95,
          1088.9,
          1027.15,
          1029.9,
          1016.35,
          1024.55,
          961.95,
          944.15,
          949,
          946.35,
          954.5,
          919,
          917.15,
          901,
          940,
          908.1,
          888,
          888.8,
          886.8,
          893,
          907.3,
          956.4,
          966,
          919.95,
          918.7,
          918.35,
          903.15,
          896.75,
          892.55,
          906.05,
          892.75,
          888.4,
          902,
          914.8,
          907.65,
          910.1,
          915.75,
          928.25,
          928.4,
          915.65,
          898.7,
          912,
          914.55,
          920.6,
          893.3,
          861.85,
          848.75,
          861.35,
          877.75,
          849.2,
          830.5,
          831.25,
          825,
          830.1,
          856.1,
          842,
          804.65,
          809.6,
          819.95,
          829.4,
          808.85,
          808.95,
          810,
          824.35,
          817.95,
          853.8,
          854.65,
          862.2,
          851.1,
          853.55,
          855,
          841,
          824,
          794.2,
          801.75,
          804.75,
          818.65,
          832.35
         ],
         "low": [
          1080,
          1112.5,
          1180.05,
          1225.05,
          1216.8,
          1223.6,
          1222.7,
          1224.1,
          1211.8,
          1198.05,
          1195,
          1195,
          1215.55,
          1203.2,
          1199,
          1195,
          1196.55,
          1186.95,
          1195,
          1194.95,
          1195,
          1188.25,
          1058.4,
          1003.95,
          1006,
          992.6,
          995.15,
          954,
          932.4,
          934.65,
          934.9,
          925.25,
          912,
          897.4,
          891.9,
          870.25,
          881.5,
          867.7,
          873.9,
          862.45,
          870.5,
          865.85,
          865.3,
          917.1,
          900.25,
          898.4,
          897.9,
          897.35,
          883,
          879.2,
          870,
          877.95,
          857.4,
          875,
          876.65,
          898.85,
          897.7,
          898.85,
          903,
          888.5,
          897.8,
          893.55,
          880.05,
          886.05,
          883.35,
          886,
          859.6,
          842.3,
          838,
          839.95,
          830.35,
          805.95,
          795.5,
          816.1,
          805.95,
          810.05,
          822,
          797.9,
          795.45,
          796.05,
          799.95,
          804.7,
          794.05,
          762,
          724.35,
          777.6,
          772.2,
          795,
          831.2,
          830.95,
          820.25,
          821,
          828.5,
          822.5,
          780.05,
          781.75,
          792.9,
          793.7,
          796.5,
          798.6
         ],
         "open": [
          1123.9,
          1191.5,
          1234,
          1233.9,
          1253.8,
          1240.85,
          1250,
          1250,
          1223.75,
          1203.55,
          1211.55,
          1233.05,
          1235.5,
          1203.5,
          1224.8,
          1203.95,
          1212,
          1201.2,
          1210,
          1208.95,
          1209.8,
          1242.1,
          1070.35,
          1003.95,
          1013.85,
          1000.1,
          1010,
          964.95,
          954.9,
          938,
          945,
          945.65,
          916,
          901.05,
          900,
          900,
          910,
          882.2,
          876,
          886,
          881.6,
          870.25,
          903.7,
          955.5,
          900.25,
          917.8,
          903.8,
          899.95,
          883,
          880,
          870,
          890,
          862.85,
          882.5,
          876.65,
          900,
          900,
          906,
          915.75,
          928.25,
          912.75,
          900,
          880.05,
          888.5,
          914.55,
          889.1,
          862,
          845,
          838,
          843,
          835,
          810.05,
          830,
          821.25,
          825,
          829.95,
          844,
          805,
          800,
          809.6,
          819.95,
          804.7,
          808.85,
          808.95,
          810,
          824.35,
          817.95,
          853.8,
          834.25,
          850.3,
          820.25,
          842.05,
          836.05,
          822.55,
          780.05,
          792,
          800,
          800.8,
          818.65,
          830.55
         ],
         "type": "candlestick",
         "x": [
          "2024-10-04T00:00:00",
          "2024-10-03T00:00:00",
          "2024-10-01T00:00:00",
          "2024-09-30T00:00:00",
          "2024-09-27T00:00:00",
          "2024-09-26T00:00:00",
          "2024-09-25T00:00:00",
          "2024-09-24T00:00:00",
          "2024-09-23T00:00:00",
          "2024-09-20T00:00:00",
          "2024-09-19T00:00:00",
          "2024-09-18T00:00:00",
          "2024-09-17T00:00:00",
          "2024-09-16T00:00:00",
          "2024-09-13T00:00:00",
          "2024-09-12T00:00:00",
          "2024-09-11T00:00:00",
          "2024-09-10T00:00:00",
          "2024-09-09T00:00:00",
          "2024-09-06T00:00:00",
          "2024-09-05T00:00:00",
          "2024-09-04T00:00:00",
          "2024-09-03T00:00:00",
          "2024-09-02T00:00:00",
          "2024-08-30T00:00:00",
          "2024-08-29T00:00:00",
          "2024-08-28T00:00:00",
          "2024-08-27T00:00:00",
          "2024-08-26T00:00:00",
          "2024-08-23T00:00:00",
          "2024-08-22T00:00:00",
          "2024-08-21T00:00:00",
          "2024-08-20T00:00:00",
          "2024-08-19T00:00:00",
          "2024-08-16T00:00:00",
          "2024-08-14T00:00:00",
          "2024-08-13T00:00:00",
          "2024-08-12T00:00:00",
          "2024-08-09T00:00:00",
          "2024-08-08T00:00:00",
          "2024-08-07T00:00:00",
          "2024-08-06T00:00:00",
          "2024-08-05T00:00:00",
          "2024-08-02T00:00:00",
          "2024-08-01T00:00:00",
          "2024-07-31T00:00:00",
          "2024-07-30T00:00:00",
          "2024-07-29T00:00:00",
          "2024-07-26T00:00:00",
          "2024-07-25T00:00:00",
          "2024-07-24T00:00:00",
          "2024-07-23T00:00:00",
          "2024-07-22T00:00:00",
          "2024-07-19T00:00:00",
          "2024-07-18T00:00:00",
          "2024-07-16T00:00:00",
          "2024-07-15T00:00:00",
          "2024-07-12T00:00:00",
          "2024-07-11T00:00:00",
          "2024-07-10T00:00:00",
          "2024-07-09T00:00:00",
          "2024-07-08T00:00:00",
          "2024-07-05T00:00:00",
          "2024-07-04T00:00:00",
          "2024-07-03T00:00:00",
          "2024-07-02T00:00:00",
          "2024-07-01T00:00:00",
          "2024-06-28T00:00:00",
          "2024-06-27T00:00:00",
          "2024-06-26T00:00:00",
          "2024-06-25T00:00:00",
          "2024-06-24T00:00:00",
          "2024-06-21T00:00:00",
          "2024-06-20T00:00:00",
          "2024-06-19T00:00:00",
          "2024-06-18T00:00:00",
          "2024-06-14T00:00:00",
          "2024-06-13T00:00:00",
          "2024-06-12T00:00:00",
          "2024-06-11T00:00:00",
          "2024-06-10T00:00:00",
          "2024-06-07T00:00:00",
          "2024-06-06T00:00:00",
          "2024-06-05T00:00:00",
          "2024-06-04T00:00:00",
          "2024-06-03T00:00:00",
          "2024-05-31T00:00:00",
          "2024-05-30T00:00:00",
          "2024-05-29T00:00:00",
          "2024-05-28T00:00:00",
          "2024-05-27T00:00:00",
          "2024-05-24T00:00:00",
          "2024-05-23T00:00:00",
          "2024-05-22T00:00:00",
          "2024-05-21T00:00:00",
          "2024-05-18T00:00:00",
          "2024-05-17T00:00:00",
          "2024-05-16T00:00:00",
          "2024-05-15T00:00:00",
          "2024-05-14T00:00:00"
         ]
        }
       ],
       "layout": {
        "height": 800,
        "template": {
         "data": {
          "bar": [
           {
            "error_x": {
             "color": "#2a3f5f"
            },
            "error_y": {
             "color": "#2a3f5f"
            },
            "marker": {
             "line": {
              "color": "#E5ECF6",
              "width": 0.5
             },
             "pattern": {
              "fillmode": "overlay",
              "size": 10,
              "solidity": 0.2
             }
            },
            "type": "bar"
           }
          ],
          "barpolar": [
           {
            "marker": {
             "line": {
              "color": "#E5ECF6",
              "width": 0.5
             },
             "pattern": {
              "fillmode": "overlay",
              "size": 10,
              "solidity": 0.2
             }
            },
            "type": "barpolar"
           }
          ],
          "carpet": [
           {
            "aaxis": {
             "endlinecolor": "#2a3f5f",
             "gridcolor": "white",
             "linecolor": "white",
             "minorgridcolor": "white",
             "startlinecolor": "#2a3f5f"
            },
            "baxis": {
             "endlinecolor": "#2a3f5f",
             "gridcolor": "white",
             "linecolor": "white",
             "minorgridcolor": "white",
             "startlinecolor": "#2a3f5f"
            },
            "type": "carpet"
           }
          ],
          "choropleth": [
           {
            "colorbar": {
             "outlinewidth": 0,
             "ticks": ""
            },
            "type": "choropleth"
           }
          ],
          "contour": [
           {
            "colorbar": {
             "outlinewidth": 0,
             "ticks": ""
            },
            "colorscale": [
             [
              0,
              "#0d0887"
             ],
             [
              0.1111111111111111,
              "#46039f"
             ],
             [
              0.2222222222222222,
              "#7201a8"
             ],
             [
              0.3333333333333333,
              "#9c179e"
             ],
             [
              0.4444444444444444,
              "#bd3786"
             ],
             [
              0.5555555555555556,
              "#d8576b"
             ],
             [
              0.6666666666666666,
              "#ed7953"
             ],
             [
              0.7777777777777778,
              "#fb9f3a"
             ],
             [
              0.8888888888888888,
              "#fdca26"
             ],
             [
              1,
              "#f0f921"
             ]
            ],
            "type": "contour"
           }
          ],
          "contourcarpet": [
           {
            "colorbar": {
             "outlinewidth": 0,
             "ticks": ""
            },
            "type": "contourcarpet"
           }
          ],
          "heatmap": [
           {
            "colorbar": {
             "outlinewidth": 0,
             "ticks": ""
            },
            "colorscale": [
             [
              0,
              "#0d0887"
             ],
             [
              0.1111111111111111,
              "#46039f"
             ],
             [
              0.2222222222222222,
              "#7201a8"
             ],
             [
              0.3333333333333333,
              "#9c179e"
             ],
             [
              0.4444444444444444,
              "#bd3786"
             ],
             [
              0.5555555555555556,
              "#d8576b"
             ],
             [
              0.6666666666666666,
              "#ed7953"
             ],
             [
              0.7777777777777778,
              "#fb9f3a"
             ],
             [
              0.8888888888888888,
              "#fdca26"
             ],
             [
              1,
              "#f0f921"
             ]
            ],
            "type": "heatmap"
           }
          ],
          "heatmapgl": [
           {
            "colorbar": {
             "outlinewidth": 0,
             "ticks": ""
            },
            "colorscale": [
             [
              0,
              "#0d0887"
             ],
             [
              0.1111111111111111,
              "#46039f"
             ],
             [
              0.2222222222222222,
              "#7201a8"
             ],
             [
              0.3333333333333333,
              "#9c179e"
             ],
             [
              0.4444444444444444,
              "#bd3786"
             ],
             [
              0.5555555555555556,
              "#d8576b"
             ],
             [
              0.6666666666666666,
              "#ed7953"
             ],
             [
              0.7777777777777778,
              "#fb9f3a"
             ],
             [
              0.8888888888888888,
              "#fdca26"
             ],
             [
              1,
              "#f0f921"
             ]
            ],
            "type": "heatmapgl"
           }
          ],
          "histogram": [
           {
            "marker": {
             "pattern": {
              "fillmode": "overlay",
              "size": 10,
              "solidity": 0.2
             }
            },
            "type": "histogram"
           }
          ],
          "histogram2d": [
           {
            "colorbar": {
             "outlinewidth": 0,
             "ticks": ""
            },
            "colorscale": [
             [
              0,
              "#0d0887"
             ],
             [
              0.1111111111111111,
              "#46039f"
             ],
             [
              0.2222222222222222,
              "#7201a8"
             ],
             [
              0.3333333333333333,
              "#9c179e"
             ],
             [
              0.4444444444444444,
              "#bd3786"
             ],
             [
              0.5555555555555556,
              "#d8576b"
             ],
             [
              0.6666666666666666,
              "#ed7953"
             ],
             [
              0.7777777777777778,
              "#fb9f3a"
             ],
             [
              0.8888888888888888,
              "#fdca26"
             ],
             [
              1,
              "#f0f921"
             ]
            ],
            "type": "histogram2d"
           }
          ],
          "histogram2dcontour": [
           {
            "colorbar": {
             "outlinewidth": 0,
             "ticks": ""
            },
            "colorscale": [
             [
              0,
              "#0d0887"
             ],
             [
              0.1111111111111111,
              "#46039f"
             ],
             [
              0.2222222222222222,
              "#7201a8"
             ],
             [
              0.3333333333333333,
              "#9c179e"
             ],
             [
              0.4444444444444444,
              "#bd3786"
             ],
             [
              0.5555555555555556,
              "#d8576b"
             ],
             [
              0.6666666666666666,
              "#ed7953"
             ],
             [
              0.7777777777777778,
              "#fb9f3a"
             ],
             [
              0.8888888888888888,
              "#fdca26"
             ],
             [
              1,
              "#f0f921"
             ]
            ],
            "type": "histogram2dcontour"
           }
          ],
          "mesh3d": [
           {
            "colorbar": {
             "outlinewidth": 0,
             "ticks": ""
            },
            "type": "mesh3d"
           }
          ],
          "parcoords": [
           {
            "line": {
             "colorbar": {
              "outlinewidth": 0,
              "ticks": ""
             }
            },
            "type": "parcoords"
           }
          ],
          "pie": [
           {
            "automargin": true,
            "type": "pie"
           }
          ],
          "scatter": [
           {
            "fillpattern": {
             "fillmode": "overlay",
             "size": 10,
             "solidity": 0.2
            },
            "type": "scatter"
           }
          ],
          "scatter3d": [
           {
            "line": {
             "colorbar": {
              "outlinewidth": 0,
              "ticks": ""
             }
            },
            "marker": {
             "colorbar": {
              "outlinewidth": 0,
              "ticks": ""
             }
            },
            "type": "scatter3d"
           }
          ],
          "scattercarpet": [
           {
            "marker": {
             "colorbar": {
              "outlinewidth": 0,
              "ticks": ""
             }
            },
            "type": "scattercarpet"
           }
          ],
          "scattergeo": [
           {
            "marker": {
             "colorbar": {
              "outlinewidth": 0,
              "ticks": ""
             }
            },
            "type": "scattergeo"
           }
          ],
          "scattergl": [
           {
            "marker": {
             "colorbar": {
              "outlinewidth": 0,
              "ticks": ""
             }
            },
            "type": "scattergl"
           }
          ],
          "scattermapbox": [
           {
            "marker": {
             "colorbar": {
              "outlinewidth": 0,
              "ticks": ""
             }
            },
            "type": "scattermapbox"
           }
          ],
          "scatterpolar": [
           {
            "marker": {
             "colorbar": {
              "outlinewidth": 0,
              "ticks": ""
             }
            },
            "type": "scatterpolar"
           }
          ],
          "scatterpolargl": [
           {
            "marker": {
             "colorbar": {
              "outlinewidth": 0,
              "ticks": ""
             }
            },
            "type": "scatterpolargl"
           }
          ],
          "scatterternary": [
           {
            "marker": {
             "colorbar": {
              "outlinewidth": 0,
              "ticks": ""
             }
            },
            "type": "scatterternary"
           }
          ],
          "surface": [
           {
            "colorbar": {
             "outlinewidth": 0,
             "ticks": ""
            },
            "colorscale": [
             [
              0,
              "#0d0887"
             ],
             [
              0.1111111111111111,
              "#46039f"
             ],
             [
              0.2222222222222222,
              "#7201a8"
             ],
             [
              0.3333333333333333,
              "#9c179e"
             ],
             [
              0.4444444444444444,
              "#bd3786"
             ],
             [
              0.5555555555555556,
              "#d8576b"
             ],
             [
              0.6666666666666666,
              "#ed7953"
             ],
             [
              0.7777777777777778,
              "#fb9f3a"
             ],
             [
              0.8888888888888888,
              "#fdca26"
             ],
             [
              1,
              "#f0f921"
             ]
            ],
            "type": "surface"
           }
          ],
          "table": [
           {
            "cells": {
             "fill": {
              "color": "#EBF0F8"
             },
             "line": {
              "color": "white"
             }
            },
            "header": {
             "fill": {
              "color": "#C8D4E3"
             },
             "line": {
              "color": "white"
             }
            },
            "type": "table"
           }
          ]
         },
         "layout": {
          "annotationdefaults": {
           "arrowcolor": "#2a3f5f",
           "arrowhead": 0,
           "arrowwidth": 1
          },
          "autotypenumbers": "strict",
          "coloraxis": {
           "colorbar": {
            "outlinewidth": 0,
            "ticks": ""
           }
          },
          "colorscale": {
           "diverging": [
            [
             0,
             "#8e0152"
            ],
            [
             0.1,
             "#c51b7d"
            ],
            [
             0.2,
             "#de77ae"
            ],
            [
             0.3,
             "#f1b6da"
            ],
            [
             0.4,
             "#fde0ef"
            ],
            [
             0.5,
             "#f7f7f7"
            ],
            [
             0.6,
             "#e6f5d0"
            ],
            [
             0.7,
             "#b8e186"
            ],
            [
             0.8,
             "#7fbc41"
            ],
            [
             0.9,
             "#4d9221"
            ],
            [
             1,
             "#276419"
            ]
           ],
           "sequential": [
            [
             0,
             "#0d0887"
            ],
            [
             0.1111111111111111,
             "#46039f"
            ],
            [
             0.2222222222222222,
             "#7201a8"
            ],
            [
             0.3333333333333333,
             "#9c179e"
            ],
            [
             0.4444444444444444,
             "#bd3786"
            ],
            [
             0.5555555555555556,
             "#d8576b"
            ],
            [
             0.6666666666666666,
             "#ed7953"
            ],
            [
             0.7777777777777778,
             "#fb9f3a"
            ],
            [
             0.8888888888888888,
             "#fdca26"
            ],
            [
             1,
             "#f0f921"
            ]
           ],
           "sequentialminus": [
            [
             0,
             "#0d0887"
            ],
            [
             0.1111111111111111,
             "#46039f"
            ],
            [
             0.2222222222222222,
             "#7201a8"
            ],
            [
             0.3333333333333333,
             "#9c179e"
            ],
            [
             0.4444444444444444,
             "#bd3786"
            ],
            [
             0.5555555555555556,
             "#d8576b"
            ],
            [
             0.6666666666666666,
             "#ed7953"
            ],
            [
             0.7777777777777778,
             "#fb9f3a"
            ],
            [
             0.8888888888888888,
             "#fdca26"
            ],
            [
             1,
             "#f0f921"
            ]
           ]
          },
          "colorway": [
           "#636efa",
           "#EF553B",
           "#00cc96",
           "#ab63fa",
           "#FFA15A",
           "#19d3f3",
           "#FF6692",
           "#B6E880",
           "#FF97FF",
           "#FECB52"
          ],
          "font": {
           "color": "#2a3f5f"
          },
          "geo": {
           "bgcolor": "white",
           "lakecolor": "white",
           "landcolor": "#E5ECF6",
           "showlakes": true,
           "showland": true,
           "subunitcolor": "white"
          },
          "hoverlabel": {
           "align": "left"
          },
          "hovermode": "closest",
          "mapbox": {
           "style": "light"
          },
          "paper_bgcolor": "white",
          "plot_bgcolor": "#E5ECF6",
          "polar": {
           "angularaxis": {
            "gridcolor": "white",
            "linecolor": "white",
            "ticks": ""
           },
           "bgcolor": "#E5ECF6",
           "radialaxis": {
            "gridcolor": "white",
            "linecolor": "white",
            "ticks": ""
           }
          },
          "scene": {
           "xaxis": {
            "backgroundcolor": "#E5ECF6",
            "gridcolor": "white",
            "gridwidth": 2,
            "linecolor": "white",
            "showbackground": true,
            "ticks": "",
            "zerolinecolor": "white"
           },
           "yaxis": {
            "backgroundcolor": "#E5ECF6",
            "gridcolor": "white",
            "gridwidth": 2,
            "linecolor": "white",
            "showbackground": true,
            "ticks": "",
            "zerolinecolor": "white"
           },
           "zaxis": {
            "backgroundcolor": "#E5ECF6",
            "gridcolor": "white",
            "gridwidth": 2,
            "linecolor": "white",
            "showbackground": true,
            "ticks": "",
            "zerolinecolor": "white"
           }
          },
          "shapedefaults": {
           "line": {
            "color": "#2a3f5f"
           }
          },
          "ternary": {
           "aaxis": {
            "gridcolor": "white",
            "linecolor": "white",
            "ticks": ""
           },
           "baxis": {
            "gridcolor": "white",
            "linecolor": "white",
            "ticks": ""
           },
           "bgcolor": "#E5ECF6",
           "caxis": {
            "gridcolor": "white",
            "linecolor": "white",
            "ticks": ""
           }
          },
          "title": {
           "x": 0.05
          },
          "xaxis": {
           "automargin": true,
           "gridcolor": "white",
           "linecolor": "white",
           "ticks": "",
           "title": {
            "standoff": 15
           },
           "zerolinecolor": "white",
           "zerolinewidth": 2
          },
          "yaxis": {
           "automargin": true,
           "gridcolor": "white",
           "linecolor": "white",
           "ticks": "",
           "title": {
            "standoff": 15
           },
           "zerolinecolor": "white",
           "zerolinewidth": 2
          }
         }
        },
        "width": 1000
       }
      }
     },
     "metadata": {},
     "output_type": "display_data"
    }
   ],
   "source": [
    "client.plot_chart(symbol=\"GODREJIND.BSE\")"
   ]
  },
  {
   "cell_type": "code",
   "execution_count": null,
   "metadata": {},
   "outputs": [],
   "source": []
  }
 ],
 "metadata": {
  "kernelspec": {
   "display_name": "venv",
   "language": "python",
   "name": "python3"
  },
  "language_info": {
   "codemirror_mode": {
    "name": "ipython",
    "version": 3
   },
   "file_extension": ".py",
   "mimetype": "text/x-python",
   "name": "python",
   "nbconvert_exporter": "python",
   "pygments_lexer": "ipython3",
   "version": "3.12.7"
  }
 },
 "nbformat": 4,
 "nbformat_minor": 2
}

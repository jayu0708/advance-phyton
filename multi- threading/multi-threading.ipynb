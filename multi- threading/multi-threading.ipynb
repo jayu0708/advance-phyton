{
 "cells": [
  {
   "cell_type": "markdown",
   "metadata": {},
   "source": [
    "# multi threading"
   ]
  },
  {
   "cell_type": "code",
   "execution_count": 1,
   "metadata": {},
   "outputs": [],
   "source": [
    "import time"
   ]
  },
  {
   "cell_type": "code",
   "execution_count": 2,
   "metadata": {},
   "outputs": [
    {
     "name": "stdout",
     "output_type": "stream",
     "text": [
      "code execution started\n",
      "execution complete\n"
     ]
    }
   ],
   "source": [
    "print (\"code execution started\")\n",
    "time.sleep(3)\n",
    "print(\"execution complete\")"
   ]
  },
  {
   "cell_type": "code",
   "execution_count": 3,
   "metadata": {},
   "outputs": [
    {
     "name": "stdout",
     "output_type": "stream",
     "text": [
      "Code execution started\n",
      "Execution complete\n",
      "CPU times: total: 0 ns\n",
      "Wall time: 3 s\n"
     ]
    }
   ],
   "source": [
    "%%time\n",
    "print(\"Code execution started\")\n",
    "time.sleep(3)\n",
    "print(\"Execution complete\")"
   ]
  },
  {
   "cell_type": "code",
   "execution_count": 4,
   "metadata": {},
   "outputs": [],
   "source": [
    "def hypotenuse(a,b):\n",
    "    print(\"hypotenuse execution started\")\n",
    "    time.sleep(3)\n",
    "    c = (a**2 + b**2)**(1/2)\n",
    "    print (f\"hypotenuse values of {a} and {b} is {c:4f}\")"
   ]
  },
  {
   "cell_type": "code",
   "execution_count": 6,
   "metadata": {},
   "outputs": [
    {
     "name": "stdout",
     "output_type": "stream",
     "text": [
      "hypotenuse execution started\n",
      "hypotenuse values of 3 and 4 is 5.000000\n",
      "CPU times: total: 46.9 ms\n",
      "Wall time: 3 s\n"
     ]
    }
   ],
   "source": [
    "%%time\n",
    "hypotenuse(3,4)"
   ]
  },
  {
   "cell_type": "code",
   "execution_count": 7,
   "metadata": {},
   "outputs": [],
   "source": [
    "def simple_intrest(p, n, r):\n",
    "    print(f\"Simple Intrest Execution started\")\n",
    "    time.sleep(2)\n",
    "    i = (p*n*r)/100\n",
    "    print(f\"Simple Intrest : {i}\")"
   ]
  },
  {
   "cell_type": "code",
   "execution_count": 8,
   "metadata": {},
   "outputs": [
    {
     "name": "stdout",
     "output_type": "stream",
     "text": [
      "Simple Intrest Execution started\n",
      "Simple Intrest : 12960.0\n",
      "CPU times: total: 15.6 ms\n",
      "Wall time: 2 s\n"
     ]
    }
   ],
   "source": [
    "%%time \n",
    "simple_intrest(p=40000,n=4,r=8.1)"
   ]
  },
  {
   "cell_type": "markdown",
   "metadata": {},
   "source": [
    "# simple thread"
   ]
  },
  {
   "cell_type": "code",
   "execution_count": 9,
   "metadata": {},
   "outputs": [
    {
     "name": "stdout",
     "output_type": "stream",
     "text": [
      "hypotenuse execution started\n",
      "hypotenuse values of 4 and 5 is 6.403124\n",
      "Simple Intrest Execution started\n",
      "Simple Intrest : 11250.0\n",
      "CPU times: total: 0 ns\n",
      "Wall time: 5 s\n"
     ]
    }
   ],
   "source": [
    "%%time\n",
    "hypotenuse(4,5) # 3 seconds\n",
    "simple_intrest(p=30000,n=5,r=7.5) # seconds"
   ]
  },
  {
   "cell_type": "markdown",
   "metadata": {},
   "source": [
    "#Multithreading"
   ]
  },
  {
   "cell_type": "code",
   "execution_count": 12,
   "metadata": {},
   "outputs": [],
   "source": [
    "from threading import Thread"
   ]
  },
  {
   "cell_type": "code",
   "execution_count": 14,
   "metadata": {},
   "outputs": [
    {
     "name": "stdout",
     "output_type": "stream",
     "text": [
      "hypotenuse execution started\n",
      "Simple Intrest Execution started\n",
      "Simple Intrest : 10650.0\n",
      "hypotenuse values of 5 and 6 is 7.810250\n"
     ]
    }
   ],
   "source": [
    "# Create the threads\n",
    "th1 = Thread(target=hypotenuse, args=(5, 6)) \n",
    "th2 = Thread(target=simple_intrest, args=(30000, 5, 7.1))\n",
    "\n",
    "# Start all the threads\n",
    "th1.start()\n",
    "th2.start()\n",
    "\n",
    "# Wait for all threads to finish\n",
    "th1.join()\n",
    "th2.join()"
   ]
  },
  {
   "cell_type": "markdown",
   "metadata": {},
   "source": [
    "# single function but multiple values"
   ]
  },
  {
   "cell_type": "code",
   "execution_count": 15,
   "metadata": {},
   "outputs": [],
   "source": [
    "def square(n):\n",
    "    time.sleep(3)\n",
    "    print(f\"Square of given number {n} is {n**2}\\n\\n\")"
   ]
  },
  {
   "cell_type": "code",
   "execution_count": 16,
   "metadata": {},
   "outputs": [
    {
     "name": "stdout",
     "output_type": "stream",
     "text": [
      "Square of given number 11 is 121\n",
      "\n",
      "\n",
      "CPU times: total: 0 ns\n",
      "Wall time: 3 s\n"
     ]
    }
   ],
   "source": [
    "%%time \n",
    "square(11)"
   ]
  },
  {
   "cell_type": "code",
   "execution_count": 17,
   "metadata": {},
   "outputs": [],
   "source": [
    "nums = [3, 4, 5, 6, 7.5]"
   ]
  },
  {
   "cell_type": "code",
   "execution_count": 19,
   "metadata": {},
   "outputs": [
    {
     "name": "stdout",
     "output_type": "stream",
     "text": [
      "Square of given number 3 is 9\n",
      "\n",
      "\n",
      "Square of given number 4 is 16\n",
      "\n",
      "\n",
      "Square of given number 5 is 25\n",
      "\n",
      "\n",
      "Square of given number 6 is 36\n",
      "\n",
      "\n",
      "Square of given number 7.5 is 56.25\n",
      "\n",
      "\n",
      "CPU times: total: 0 ns\n",
      "Wall time: 15 s\n"
     ]
    }
   ],
   "source": [
    "%%time\n",
    "# single thread\n",
    "for i in nums:\n",
    "    square(i)"
   ]
  },
  {
   "cell_type": "code",
   "execution_count": 20,
   "metadata": {},
   "outputs": [
    {
     "name": "stdout",
     "output_type": "stream",
     "text": [
      "Square of given number 3 is 9\n",
      "\n",
      "Square of given number 4 is 16\n",
      "\n",
      "\n",
      "Square of given number 7.5 is 56.25\n",
      "\n",
      "\n",
      "Square of given number 5 is 25\n",
      "\n",
      "\n",
      "Square of given number 6 is 36\n",
      "\n",
      "\n",
      "\n",
      "CPU times: total: 46.9 ms\n",
      "Wall time: 3.01 s\n"
     ]
    }
   ],
   "source": [
    "%%time\n",
    "# Create the threads\n",
    "threads = []\n",
    "for i in nums:\n",
    "    th = Thread(target=square, args=(i, ))\n",
    "    th.start()\n",
    "    threads.append(th)\n",
    "\n",
    "# Wait for all threads to finish\n",
    "for th in threads:\n",
    "    th.join()"
   ]
  },
  {
   "cell_type": "markdown",
   "metadata": {},
   "source": [
    "### practical example - downloading multiple files using multithreadin"
   ]
  },
  {
   "cell_type": "code",
   "execution_count": 21,
   "metadata": {},
   "outputs": [
    {
     "name": "stdout",
     "output_type": "stream",
     "text": [
      "https://raw.githubusercontent.com/utkarshg1/mlproject_regression/main/artifacts/data.csv\n"
     ]
    }
   ],
   "source": [
    "url1 = \"https://raw.githubusercontent.com/utkarshg1/mlproject_regression/main/artifacts/data.csv\"\n",
    "print(url1)"
   ]
  },
  {
   "cell_type": "code",
   "execution_count": 22,
   "metadata": {},
   "outputs": [
    {
     "data": {
      "text/plain": [
       "['https:',\n",
       " '',\n",
       " 'raw.githubusercontent.com',\n",
       " 'utkarshg1',\n",
       " 'mlproject_regression',\n",
       " 'main',\n",
       " 'artifacts',\n",
       " 'data.csv']"
      ]
     },
     "execution_count": 22,
     "metadata": {},
     "output_type": "execute_result"
    }
   ],
   "source": [
    "url1.split(\"/\")"
   ]
  },
  {
   "cell_type": "code",
   "execution_count": 23,
   "metadata": {},
   "outputs": [
    {
     "data": {
      "text/plain": [
       "'data.csv'"
      ]
     },
     "execution_count": 23,
     "metadata": {},
     "output_type": "execute_result"
    }
   ],
   "source": [
    "url1.split (\"/\")[-1]"
   ]
  },
  {
   "cell_type": "code",
   "execution_count": 24,
   "metadata": {},
   "outputs": [],
   "source": [
    "from urllib.request import urlretrieve"
   ]
  },
  {
   "cell_type": "code",
   "execution_count": 29,
   "metadata": {},
   "outputs": [],
   "source": [
    "def download(url):\n",
    "    file_name = url.split('/')[-1]\n",
    "    print(f\"Downloading {file_name} ...\")\n",
    "    urlretrieve(url, file_name)\n",
    "    print(f\"{file_name} Download completed\")"
   ]
  },
  {
   "cell_type": "code",
   "execution_count": 30,
   "metadata": {},
   "outputs": [
    {
     "data": {
      "text/plain": [
       "'https://raw.githubusercontent.com/utkarshg1/mlproject_regression/main/artifacts/data.csv'"
      ]
     },
     "execution_count": 30,
     "metadata": {},
     "output_type": "execute_result"
    }
   ],
   "source": [
    "url1"
   ]
  },
  {
   "cell_type": "code",
   "execution_count": 32,
   "metadata": {},
   "outputs": [
    {
     "name": "stdout",
     "output_type": "stream",
     "text": [
      "Downloading data.csv ...\n",
      "data.csv Download completed\n"
     ]
    }
   ],
   "source": [
    "download(url1)"
   ]
  },
  {
   "cell_type": "code",
   "execution_count": 33,
   "metadata": {},
   "outputs": [],
   "source": [
    "urls = [\n",
    "    \"https://raw.githubusercontent.com/utkarshg1/mlproject_regression/main/artifacts/data.csv\",\n",
    "    \"https://raw.githubusercontent.com/utkarshg1/mlproject_regression/main/artifacts/test.csv\",\n",
    "    \"https://raw.githubusercontent.com/utkarshg1/mlproject_regression/main/artifacts/train.csv\"\n",
    "]"
   ]
  },
  {
   "cell_type": "code",
   "execution_count": 37,
   "metadata": {},
   "outputs": [
    {
     "name": "stdout",
     "output_type": "stream",
     "text": [
      "Downloading data.csv ...\n",
      "data.csv Download completed\n",
      "Downloading test.csv ...\n",
      "test.csv Download completed\n",
      "Downloading train.csv ...\n",
      "train.csv Download completed\n",
      "CPU times: total: 203 ms\n",
      "Wall time: 2.23 s\n"
     ]
    }
   ],
   "source": [
    "%%time\n",
    "for i in urls:\n",
    "    download(i)"
   ]
  },
  {
   "cell_type": "code",
   "execution_count": 38,
   "metadata": {},
   "outputs": [
    {
     "name": "stdout",
     "output_type": "stream",
     "text": [
      "Downloading data.csv ...\n",
      "Downloading test.csv ...\n",
      "Downloading train.csv ...\n",
      "test.csv Download completed\n",
      "data.csv Download completed\n",
      "train.csv Download completed\n",
      "CPU times: total: 266 ms\n",
      "Wall time: 2.16 s\n"
     ]
    }
   ],
   "source": [
    "%%time \n",
    "threads = []\n",
    "for i in urls:\n",
    "    th = Thread(target=download, args=(i,))\n",
    "    th.start()\n",
    "    threads.append(th)\n",
    "\n",
    "for th in threads:\n",
    "    th.join()"
   ]
  },
  {
   "cell_type": "code",
   "execution_count": null,
   "metadata": {},
   "outputs": [],
   "source": []
  }
 ],
 "metadata": {
  "kernelspec": {
   "display_name": "venv",
   "language": "python",
   "name": "python3"
  },
  "language_info": {
   "codemirror_mode": {
    "name": "ipython",
    "version": 3
   },
   "file_extension": ".py",
   "mimetype": "text/x-python",
   "name": "python",
   "nbconvert_exporter": "python",
   "pygments_lexer": "ipython3",
   "version": "3.12.6"
  }
 },
 "nbformat": 4,
 "nbformat_minor": 2
}
